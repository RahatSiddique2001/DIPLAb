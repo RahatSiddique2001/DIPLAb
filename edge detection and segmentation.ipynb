{
 "cells": [
  {
   "cell_type": "code",
   "execution_count": null,
   "id": "cabeceb1",
   "metadata": {},
   "outputs": [],
   "source": [
    "import matplotlib.pyplot as plt\n",
    "import numpy as np\n",
    "import cv2\n"
   ]
  },
  {
   "cell_type": "code",
   "execution_count": null,
   "id": "c6f6ac27",
   "metadata": {},
   "outputs": [],
   "source": [
    "img = cv2.imread(\"building.tif\", cv2.IMREAD_GRAYSCALE)\n",
    "\n",
    "plt.figure(figsize=(4, 4))\n",
    "\n",
    "plt.imshow(img, cmap='gray')\n",
    "plt.title(\"Original Image\")\n",
    "plt.axis('off')\n",
    "\n",
    "plt.tight_layout()\n",
    "plt.show()\n"
   ]
  },
  {
   "cell_type": "code",
   "execution_count": null,
   "id": "acae3aac",
   "metadata": {},
   "outputs": [],
   "source": [
    "def detect_edge(image, kernel_x, kernel_y):\n",
    "    h, w = kernel_x.shape\n",
    "    padded = np.pad(image, ((1, 1), (1, 1)), mode='constant', constant_values=0)\n",
    "\n",
    "    gradient_x = np.zeros_like(image)\n",
    "    gradient_y = np.zeros_like(image)\n",
    "\n",
    "    # Apply convolution with kernels\n",
    "    for i in range(image.shape[0]):\n",
    "        for j in range(image.shape[1]):\n",
    "            region = padded[i:i+h, j:j+w]\n",
    "            gx = np.sum(region * kernel_x)\n",
    "            gy = np.sum(region * kernel_y)\n",
    "            gradient_x[i, j] = gx\n",
    "            gradient_y[i, j] = gy\n",
    "\n",
    "    # Compute gradient magnitude\n",
    "    magnitude = np.sqrt(gradient_x ** 2 + gradient_y ** 2)\n",
    "    magnitude = (magnitude - np.min(magnitude)) / (np.max(magnitude) - np.min(magnitude)) * 255\n",
    "    \n",
    "    return magnitude.astype(np.uint8)"
   ]
  },
  {
   "cell_type": "markdown",
   "id": "c293e3f6",
   "metadata": {},
   "source": [
    "Sobel Edge detection function\n"
   ]
  },
  {
   "cell_type": "code",
   "execution_count": null,
   "id": "e8a6cd6d",
   "metadata": {},
   "outputs": [],
   "source": [
    "def sobel_edge_detection(image):\n",
    "    # Convert to float for accurate computation\n",
    "    # image = img.copy(img)\n",
    "    image = image.astype(np.float32)\n",
    "\n",
    "    # Define Sobel kernels\n",
    "    sobel_x = np.array([\n",
    "        [-1, 0, 1],\n",
    "        [-2, 0, 2],\n",
    "        [-1, 0, 1]\n",
    "    ], dtype=np.float32)\n",
    "\n",
    "    sobel_y = np.array([\n",
    "        [-1, -2, -1],\n",
    "        [ 0,  0,  0],\n",
    "        [ 1,  2,  1]\n",
    "    ], dtype=np.float32)\n",
    "    \n",
    "    return detect_edge(image, sobel_x, sobel_y)\n"
   ]
  },
  {
   "cell_type": "markdown",
   "id": "9f6acbca",
   "metadata": {},
   "source": [
    "Prewitt Edge detection function\n"
   ]
  },
  {
   "cell_type": "code",
   "execution_count": null,
   "id": "83b9117a",
   "metadata": {},
   "outputs": [],
   "source": [
    "def prewitt_edge_detection(image):\n",
    "    # Convert to float for accurate computation\n",
    "    image = image.astype(np.float32)\n",
    "\n",
    "    # Define prewitt kernels\n",
    "    prewitt_x = np.array([\n",
    "        [-1, 0, 1],\n",
    "        [-1, 0, 1],\n",
    "        [-1, 0, 1]\n",
    "    ], dtype=np.float32)\n",
    "\n",
    "    prewitt_y = np.array([\n",
    "        [-1, -1, -1],\n",
    "        [ 0,  0,  0],\n",
    "        [ 1,  1,  1]\n",
    "    ], dtype=np.float32)\n",
    "    \n",
    "    return detect_edge(image, prewitt_x, prewitt_y)\n"
   ]
  },
  {
   "cell_type": "markdown",
   "id": "71f0d6a1",
   "metadata": {},
   "source": [
    "Roberts Edge detection\n"
   ]
  },
  {
   "cell_type": "code",
   "execution_count": null,
   "id": "77c46b9b",
   "metadata": {},
   "outputs": [],
   "source": [
    "def roberts_edge_detection(image):\n",
    "    # Convert to float for accurate computation\n",
    "    image = image.astype(np.float32)\n",
    "\n",
    "    # Define robert kernels\n",
    "    robert_x = np.array([\n",
    "        [-1, 0],\n",
    "        [0, 1]\n",
    "    ], dtype=np.float32)\n",
    "\n",
    "    robert_y = np.array([\n",
    "        [0, -1],\n",
    "        [1,  0]\n",
    "    ], dtype=np.float32)\n",
    "    \n",
    "    return detect_edge(image, robert_x, robert_y)\n"
   ]
  },
  {
   "cell_type": "markdown",
   "id": "e728e5a1",
   "metadata": {},
   "source": [
    "(a) Compare different edge detection algorithms implemented in spatial domain\n"
   ]
  },
  {
   "cell_type": "code",
   "execution_count": null,
   "id": "4e9fbbcb",
   "metadata": {},
   "outputs": [],
   "source": [
    "sobel_edge = sobel_edge_detection(img)\n",
    "prewitt_edge = prewitt_edge_detection(img)\n",
    "roberts_edge = roberts_edge_detection(img)\n",
    "\n",
    "plt.figure(figsize=(10, 10))\n",
    "\n",
    "plt.subplot(2, 2, 1)\n",
    "plt.imshow(img, cmap='gray')\n",
    "plt.title(\"Original Image\")\n",
    "plt.axis('off')\n",
    "\n",
    "plt.subplot(2, 2, 2)\n",
    "plt.imshow(sobel_edge, cmap='gray')\n",
    "plt.title(\"Sobel Edge\")\n",
    "plt.axis('off')\n",
    "\n",
    "plt.subplot(2, 2, 3)\n",
    "plt.imshow(prewitt_edge, cmap='gray')\n",
    "plt.title(\"Sobel Edge\")\n",
    "plt.axis('off')\n",
    "\n",
    "plt.subplot(2, 2, 4)\n",
    "plt.imshow(roberts_edge, cmap='gray')\n",
    "plt.title('Roberts Edge')\n",
    "plt.axis('off')\n",
    "\n",
    "plt.tight_layout()\n",
    "plt.show()\n"
   ]
  },
  {
   "cell_type": "markdown",
   "id": "b5238604",
   "metadata": {},
   "source": [
    "(b) Illustrate the segmentation based on gray level.\n"
   ]
  },
  {
   "cell_type": "code",
   "execution_count": null,
   "id": "44859495",
   "metadata": {},
   "outputs": [],
   "source": [
    "img = cv2.imread(\"cards.tif\", cv2.IMREAD_GRAYSCALE)\n",
    "\n",
    "hist = np.zeros(256)\n",
    "\n",
    "for i in range(img.shape[0]):\n",
    "    for j in range(img.shape[1]):\n",
    "        hist[img[i, j]] += 1\n",
    "\n",
    "segment_t150 = np.zeros_like(img, dtype=np.uint8)\n",
    "segment_t150[img > 150] = 255\n",
    "\n",
    "segment_t80 = np.zeros_like(img, dtype=np.uint8)\n",
    "segment_t80[img > 80] = 255\n",
    "\n",
    "plt.figure(figsize=(12, 6))\n",
    "\n",
    "plt.subplot(1, 4, 1)\n",
    "plt.imshow(img, cmap='gray')\n",
    "plt.title(\"Original Image\")\n",
    "plt.axis('off')\n",
    "\n",
    "plt.subplot(1, 4, 2)\n",
    "plt.plot(hist)\n",
    "plt.title(\"Histogram\")\n",
    "plt.xlabel(\"Intensity\")\n",
    "plt.ylabel(\"Frequency\")\n",
    "\n",
    "plt.subplot(1, 4, 3)\n",
    "plt.imshow(segment_t80, cmap='gray')\n",
    "plt.title(\"Segmented Image\\nT = 80\")\n",
    "plt.axis('off')\n",
    "\n",
    "plt.subplot(1, 4, 4)\n",
    "plt.imshow(segment_t150, cmap='gray')\n",
    "plt.title(\"Segmented Image\\nT = 150\")\n",
    "plt.axis('off')\n",
    "\n",
    "plt.tight_layout()\n",
    "plt.show()\n"
   ]
  },
  {
   "cell_type": "markdown",
   "id": "f5f8098c",
   "metadata": {},
   "source": [
    "Basic global thresholding algorithm\n"
   ]
  },
  {
   "cell_type": "code",
   "execution_count": null,
   "id": "f39d6544",
   "metadata": {},
   "outputs": [],
   "source": [
    "def basic_global_thresholding(image, max_iterations = 100, epsilon = 0.5):\n",
    "    T = np.mean(image)\n",
    "\n",
    "    for _ in range(max_iterations):\n",
    "        G1 = image[image > T]\n",
    "        G2 = image[image <= T]\n",
    "\n",
    "        mu1 = np.mean(G1)\n",
    "        mu2 = np.mean(G2)\n",
    "\n",
    "        new_T = (mu1 + mu2) / 2\n",
    "\n",
    "        if abs(new_T - T) < epsilon:\n",
    "            break\n",
    "\n",
    "        T = new_T\n",
    "\n",
    "    segmented = np.uint8(image > T) * 255\n",
    "    return segmented, T\n"
   ]
  },
  {
   "cell_type": "markdown",
   "id": "2b51ddec",
   "metadata": {},
   "source": [
    "(c) Implement image segmentation using basic global thresholding algorithm\n"
   ]
  },
  {
   "cell_type": "code",
   "execution_count": null,
   "id": "1b028cce",
   "metadata": {},
   "outputs": [],
   "source": [
    "img = cv2.imread(\"fingerprint_seg.tif\", cv2.IMREAD_GRAYSCALE)\n",
    "\n",
    "for i in range(img.shape[0]):\n",
    "    for j in range(img.shape[1]):\n",
    "        hist[img[i, j]] += 1\n",
    "\n",
    "segmented, T = basic_global_thresholding(img)\n",
    "print(f\"Threshold value: {T}\")\n",
    "\n",
    "plt.figure(figsize=(12, 4))\n",
    "\n",
    "plt.subplot(1, 3, 1)\n",
    "plt.imshow(img, cmap='gray')\n",
    "plt.title(\"Original Image\")\n",
    "plt.axis('off')\n",
    "\n",
    "plt.subplot(1, 3, 2)\n",
    "plt.plot(hist)\n",
    "plt.title(\"Histogram\")\n",
    "plt.xlabel(\"Intensity\")\n",
    "plt.ylabel(\"Frequency\")\n",
    "\n",
    "plt.subplot(1, 3, 3)\n",
    "plt.imshow(segmented, cmap='gray')\n",
    "plt.title(\"Segmented Image\")\n",
    "plt.axis('off')\n",
    "\n",
    "plt.tight_layout()\n",
    "plt.show()\n",
    "    "
   ]
  },
  {
   "cell_type": "code",
   "execution_count": null,
   "id": "2af2051b",
   "metadata": {},
   "outputs": [],
   "source": [
    "def adaptive_thresholding(image, block_size=64):\n",
    "    h, w = image.shape\n",
    "    result = np.zeros_like(image, dtype=np.uint8)\n",
    "\n",
    "    for i in range(0, h, block_size):\n",
    "        for j in range(0, w, block_size):\n",
    "            # Extract sub-image\n",
    "            sub_img = image[i:i+block_size, j:j+block_size]\n",
    "            # Apply basic thresholding\n",
    "            thresholded_block, _ = basic_global_thresholding(sub_img)\n",
    "            result[i:i+block_size, j:j+block_size] = thresholded_block\n",
    "\n",
    "    return result\n"
   ]
  },
  {
   "cell_type": "markdown",
   "id": "d4e1c3a1",
   "metadata": {},
   "source": [
    "(d) Demonstrate the segmentation by adaptive thresholding\n"
   ]
  },
  {
   "cell_type": "code",
   "execution_count": null,
   "id": "5caa2473",
   "metadata": {},
   "outputs": [],
   "source": [
    "img = cv2.imread(\"noisy_septagon.tif\", cv2.IMREAD_GRAYSCALE)\n",
    "img = cv2.resize(img, (512, 512))\n",
    "\n",
    "for i in range(img.shape[0]):\n",
    "    for j in range(img.shape[1]):\n",
    "        hist[img[i, j]] += 1\n",
    "\n",
    "basic_segmented, _ = basic_global_thresholding(img)\n",
    "adaptive_segmented = adaptive_thresholding(img, 256)\n",
    "\n",
    "plt.figure(figsize=(12, 4))\n",
    "\n",
    "plt.subplot(1, 4, 1)\n",
    "plt.imshow(img, cmap='gray')\n",
    "plt.title(\"Original Image\")\n",
    "plt.axis('off')\n",
    "\n",
    "plt.subplot(1, 4, 2)\n",
    "plt.plot(hist)\n",
    "plt.title(\"Histogram\")\n",
    "plt.xlabel(\"Intensity\")\n",
    "plt.ylabel(\"Frequency\")\n",
    "\n",
    "plt.subplot(1, 4, 3)\n",
    "plt.imshow(basic_segmented, cmap='gray')\n",
    "plt.title(\"Basic Segmented Image\")\n",
    "plt.axis('off')\n",
    "\n",
    "plt.subplot(1, 4, 4)\n",
    "plt.imshow(adaptive_segmented, cmap='gray')\n",
    "plt.title(\"Adaptive Segmented Image\")\n",
    "plt.axis('off')\n",
    "\n",
    "plt.tight_layout()\n",
    "plt.show()"
   ]
  }
 ],
 "metadata": {
  "language_info": {
   "name": "python"
  }
 },
 "nbformat": 4,
 "nbformat_minor": 5
}
